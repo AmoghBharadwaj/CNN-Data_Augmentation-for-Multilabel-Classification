{
 "cells": [
  {
   "cell_type": "markdown",
   "metadata": {},
   "source": [
    "# We will see how Multi label classification is done using Convolutional Neural Network"
   ]
  },
  {
   "cell_type": "markdown",
   "metadata": {
    "colab_type": "text",
    "id": "Vhu23sVbrVJa"
   },
   "source": [
    "We will be using Fashion Data Set for this particular Exercise which is available in Keras library. It has about 70000 records, Let us use 48000 for training,12000 for validation and 10000 for test set.\n",
    "\n",
    "**We have 10 classes in the output**.\n",
    "Label Description \n",
    " - 0 T-shirt/top \n",
    " - 1 Trouser \n",
    " - 2 Pullover \n",
    " - 3 Dress \n",
    " - 4 Coat \n",
    " - 5 Sandal \n",
    " - 6 Shirt \n",
    " - 7 Sneaker \n",
    " - 8 Bag \n",
    " - 9 Ankle boot"
   ]
  },
  {
   "cell_type": "markdown",
   "metadata": {
    "colab_type": "text",
    "id": "6qlSkvz7nUlb"
   },
   "source": [
    "# **Obtaining the data from keras**"
   ]
  },
  {
   "cell_type": "code",
   "execution_count": 12,
   "metadata": {
    "colab": {
     "base_uri": "https://localhost:8080/",
     "height": 50
    },
    "colab_type": "code",
    "id": "WXXHP67HmGs8",
    "outputId": "c49a916f-f53c-4017-e9bb-4c1f154afd54"
   },
   "outputs": [
    {
     "name": "stdout",
     "output_type": "stream",
     "text": [
      "x_train shape: (60000, 28, 28) y_train shape: (60000,)\n",
      "x_test shape: (10000, 28, 28) y_test shape: (10000,)\n"
     ]
    }
   ],
   "source": [
    "import tensorflow as tf\n",
    "import numpy as np\n",
    "import matplotlib.pyplot as plt\n",
    "# Load the fashion-mnist pre-shuffled train data and test data\n",
    "(x_train, y_train), (x_test, y_test) = tf.keras.datasets.fashion_mnist.load_data()\n",
    "print(\"x_train shape:\", x_train.shape, \"y_train shape:\", y_train.shape)\n",
    "print(\"x_test shape:\", x_test.shape, \"y_test shape:\", y_test.shape)"
   ]
  },
  {
   "cell_type": "markdown",
   "metadata": {
    "colab_type": "text",
    "id": "j-3J0iHFpfdb"
   },
   "source": [
    "**We have 60k records for training and around 10k records for the test data. Let us divide the training into 80:20 as training and validation data.**"
   ]
  },
  {
   "cell_type": "code",
   "execution_count": 0,
   "metadata": {
    "colab": {},
    "colab_type": "code",
    "id": "A7j61YyjohoQ"
   },
   "outputs": [],
   "source": [
    "from sklearn.model_selection import train_test_split\n",
    "x_train_1,x_valid, y_train_1, y_valid = train_test_split(x_train, y_train, test_size=0.2, random_state=123)"
   ]
  },
  {
   "cell_type": "markdown",
   "metadata": {
    "colab_type": "text",
    "id": "ySx3Z0e2qJYl"
   },
   "source": [
    "**xtrain_1 refers to the training data that is the 80% of the original training data and x_valid refers to the validation data set**"
   ]
  },
  {
   "cell_type": "code",
   "execution_count": 14,
   "metadata": {
    "colab": {
     "base_uri": "https://localhost:8080/",
     "height": 626
    },
    "colab_type": "code",
    "id": "rRUgpUivr68I",
    "outputId": "817c1151-43b4-49fe-f17d-89a3a2816020"
   },
   "outputs": [
    {
     "name": "stdout",
     "output_type": "stream",
     "text": [
      "Number of training examples:  48000\n",
      "Size of the image:  28 X 28\n"
     ]
    },
    {
     "data": {
      "image/png": "[encoded data removed]",
      "text/plain": [
       "<Figure size 720x720 with 8 Axes>"
      ]
     },
     "metadata": {
      "tags": []
     },
     "output_type": "display_data"
    }
   ],
   "source": [
    "#Let us see how couple of images look in the training set and what the size of the image is\n",
    "fig, ax = plt.subplots(nrows=4, ncols=2,figsize=(10,10))\n",
    "for i in range(0,8):\n",
    "  plt.subplot(4,2,i+1)\n",
    "  plt.imshow(x_train_1[i])\n",
    "\n",
    "  \n",
    "print(\"Number of training examples: \",x_train_1.shape[0])\n",
    "print(\"Size of the image: \",x_train_1.shape[1], \"X\",x_train_1.shape[2])\n"
   ]
  },
  {
   "cell_type": "markdown",
   "metadata": {
    "colab_type": "text",
    "id": "z6DmE1LutckF"
   },
   "source": [
    " **We have diferent objects like shoes, sandals, coat,jacket and tee shirt, we get to know how the image looks like from this sample and its size as 28x28**"
   ]
  },
  {
   "cell_type": "markdown",
   "metadata": {
    "colab_type": "text",
    "id": "-GIsSd8pux_W"
   },
   "source": [
    "# **Let us create a Convolutional Neural Networ as follows:**\n",
    "## Input Layer(28*28 image size)\n",
    "## Convolutional layer  (64 maps, 5*5)\n",
    "## Maxpooling layer (2*2)\n",
    "## Dropout Layer (30%)\n",
    "## Convolutional layer  (32 maps, 5*5)\n",
    "## Maxpooling layer (2*2)\n",
    "## Dropout Layer (30%)\n",
    "## Flatten Layer\n",
    "## Hidden layer(128 Neurons)\n",
    "## Hidden layer(64 Neurons)\n",
    "## Output Layer(10 outputs)"
   ]
  },
  {
   "cell_type": "code",
   "execution_count": 15,
   "metadata": {
    "colab": {
     "base_uri": "https://localhost:8080/",
     "height": 776
    },
    "colab_type": "code",
    "id": "Tfor3zhSqT_Y",
    "outputId": "e6cd2327-31d1-48f1-96fa-fb1bf7b28955"
   },
   "outputs": [
    {
     "name": "stdout",
     "output_type": "stream",
     "text": [
      "Number of classes in the output : 10\n"
     ]
    },
    {
     "name": "stderr",
     "output_type": "stream",
     "text": [
      "/usr/local/lib/python3.6/dist-packages/ipykernel_launcher.py:35: UserWarning: Update your `Conv2D` call to the Keras 2 API: `Conv2D(64, (5, 5), input_shape=(1, 28, 28..., activation=\"relu\")`\n",
      "/usr/local/lib/python3.6/dist-packages/ipykernel_launcher.py:38: UserWarning: Update your `Conv2D` call to the Keras 2 API: `Conv2D(64, (5, 5), activation=\"relu\")`\n"
     ]
    },
    {
     "name": "stdout",
     "output_type": "stream",
     "text": [
      "Train on 48000 samples, validate on 12000 samples\n",
      "Epoch 1/20\n",
      " - 4s - loss: 0.8156 - acc: 0.6998 - val_loss: 0.5214 - val_acc: 0.8151\n",
      "Epoch 2/20\n",
      " - 3s - loss: 0.4890 - acc: 0.8206 - val_loss: 0.4275 - val_acc: 0.8466\n",
      "Epoch 3/20\n",
      " - 3s - loss: 0.4119 - acc: 0.8505 - val_loss: 0.3595 - val_acc: 0.8732\n",
      "Epoch 4/20\n",
      " - 3s - loss: 0.3679 - acc: 0.8667 - val_loss: 0.3372 - val_acc: 0.8810\n",
      "Epoch 5/20\n",
      " - 3s - loss: 0.3363 - acc: 0.8772 - val_loss: 0.3185 - val_acc: 0.8851\n",
      "Epoch 6/20\n",
      " - 3s - loss: 0.3118 - acc: 0.8841 - val_loss: 0.2950 - val_acc: 0.8928\n",
      "Epoch 7/20\n",
      " - 3s - loss: 0.2940 - acc: 0.8915 - val_loss: 0.2850 - val_acc: 0.8964\n",
      "Epoch 8/20\n",
      " - 3s - loss: 0.2787 - acc: 0.8978 - val_loss: 0.2750 - val_acc: 0.9024\n",
      "Epoch 9/20\n",
      " - 3s - loss: 0.2720 - acc: 0.8990 - val_loss: 0.2720 - val_acc: 0.9010\n",
      "Epoch 10/20\n",
      " - 3s - loss: 0.2568 - acc: 0.9051 - val_loss: 0.2684 - val_acc: 0.9022\n",
      "Epoch 11/20\n",
      " - 3s - loss: 0.2507 - acc: 0.9073 - val_loss: 0.2590 - val_acc: 0.9066\n",
      "Epoch 12/20\n",
      " - 3s - loss: 0.2405 - acc: 0.9103 - val_loss: 0.2522 - val_acc: 0.9101\n",
      "Epoch 13/20\n",
      " - 3s - loss: 0.2347 - acc: 0.9117 - val_loss: 0.2609 - val_acc: 0.9071\n",
      "Epoch 14/20\n",
      " - 3s - loss: 0.2253 - acc: 0.9167 - val_loss: 0.2450 - val_acc: 0.9138\n",
      "Epoch 15/20\n",
      " - 3s - loss: 0.2205 - acc: 0.9173 - val_loss: 0.2393 - val_acc: 0.9148\n",
      "Epoch 16/20\n",
      " - 3s - loss: 0.2117 - acc: 0.9208 - val_loss: 0.2454 - val_acc: 0.9128\n",
      "Epoch 17/20\n",
      " - 3s - loss: 0.2046 - acc: 0.9229 - val_loss: 0.2392 - val_acc: 0.9165\n",
      "Epoch 18/20\n",
      " - 3s - loss: 0.1986 - acc: 0.9249 - val_loss: 0.2467 - val_acc: 0.9134\n",
      "Epoch 19/20\n",
      " - 3s - loss: 0.1949 - acc: 0.9264 - val_loss: 0.2329 - val_acc: 0.9180\n",
      "Epoch 20/20\n",
      " - 3s - loss: 0.1885 - acc: 0.9291 - val_loss: 0.2392 - val_acc: 0.9179\n"
     ]
    }
   ],
   "source": [
    "# Simple CNN for the MNIST Dataset\n",
    "import numpy\n",
    "from keras.datasets import mnist\n",
    "from keras.models import Sequential\n",
    "from keras.layers import Dense\n",
    "from keras.layers import Dropout\n",
    "from keras.layers import Flatten\n",
    "from keras.layers.convolutional import Convolution2D\n",
    "from keras.layers.convolutional import MaxPooling2D\n",
    "from keras.utils import np_utils\n",
    "from keras import backend as K\n",
    "K.set_image_dim_ordering('th')\n",
    "# fix random seed for reproducibility\n",
    "seed = 7\n",
    "numpy.random.seed(seed)\n",
    "# reshape to be [samples][channels][width][height]\n",
    "x_train_1 = x_train_1.reshape(x_train_1.shape[0], 1, 28, 28).astype( 'float32' )\n",
    "x_valid = x_valid.reshape(x_valid.shape[0], 1, 28, 28).astype( 'float32' )\n",
    "x_test = x_test.reshape(x_test.shape[0], 1, 28, 28).astype( 'float32' )\n",
    "\n",
    "# normalize inputs from 0-255 to 0-1\n",
    "x_train_1 = x_train_1 / 255\n",
    "x_test = x_test / 255\n",
    "x_valid = x_valid  /255\n",
    "# one hot encode outputs\n",
    "y_train_1 = np_utils.to_categorical(y_train_1)\n",
    "y_valid = np_utils.to_categorical(y_valid)\n",
    "y_test = np_utils.to_categorical(y_test)\n",
    "num_classes = y_test.shape[1]\n",
    "print(\"Number of classes in the output :\", num_classes)\n",
    "\n",
    "# create model\n",
    "def baseline_model():\n",
    "\n",
    "  model = Sequential()\n",
    "  model.add(Convolution2D(64, 5, 5, input_shape=(1, 28, 28), activation= 'relu'))\n",
    "  model.add(MaxPooling2D(pool_size=(2, 2)))\n",
    "  model.add(Dropout(0.2))\n",
    "  model.add(Convolution2D(64, 5, 5, activation= 'relu' ))\n",
    "  model.add(MaxPooling2D(pool_size=(2, 2)))\n",
    "  model.add(Dropout(0.2))\n",
    "  model.add(Flatten())\n",
    "  model.add(Dense(128, activation= 'relu' ))\n",
    "  model.add(Dense(64, activation= 'relu' ))\n",
    "  model.add(Dense(num_classes, activation= 'softmax'))\n",
    "  # Compile model\n",
    "  model.compile(loss= 'categorical_crossentropy' , optimizer= 'adam' , metrics=[ 'accuracy' ])\n",
    "  return model\n",
    "\n",
    "# build the model\n",
    "model = baseline_model()\n",
    "# Fit the model\n",
    "history = model.fit(x_train_1, y_train_1, validation_data=(x_valid, y_valid), epochs=20, batch_size=400,verbose=2)\n"
   ]
  },
  {
   "cell_type": "code",
   "execution_count": 16,
   "metadata": {
    "colab": {
     "base_uri": "https://localhost:8080/",
     "height": 393
    },
    "colab_type": "code",
    "id": "CIMxUtfnFmf-",
    "outputId": "a4841351-7bb2-4a0b-8c5d-a72977c9fe88"
   },
   "outputs": [
    {
     "data": {
      "image/png": "[encoded data removed]",
      "text/plain": [
       "<Figure size 576x396 with 1 Axes>"
      ]
     },
     "metadata": {
      "tags": []
     },
     "output_type": "display_data"
    },
    {
     "name": "stdout",
     "output_type": "stream",
     "text": [
      "Optimum epoch:=  18\n"
     ]
    }
   ],
   "source": [
    "# Lets plot the graph of Training loss vs Validation Loss\n",
    "import matplotlib.pyplot as plt\n",
    "\n",
    "loss = history.history['loss']\n",
    "val_loss = history.history['val_loss']\n",
    "\n",
    "epochs = range(1, len(loss) + 1)\n",
    "\n",
    "plt.plot(epochs, loss, 'bo', label='Training loss')\n",
    "plt.plot(epochs, val_loss, 'b', label='Validation loss')\n",
    "plt.title('Training and validation loss')\n",
    "plt.xlabel('Epochs')\n",
    "plt.ylabel('Loss')\n",
    "plt.legend()\n",
    "\n",
    "plt.show() \n",
    "\n",
    "epoch_optimum= np.argmin(val_loss) \n",
    "\n",
    "print(\"Optimum epoch:= \", epoch_optimum)"
   ]
  },
  {
   "cell_type": "code",
   "execution_count": 17,
   "metadata": {
    "colab": {
     "base_uri": "https://localhost:8080/",
     "height": 638
    },
    "colab_type": "code",
    "id": "a0qYUlbLFrkw",
    "outputId": "58cb09ee-e0ef-4f6f-8be6-ffa45cdec924"
   },
   "outputs": [
    {
     "name": "stdout",
     "output_type": "stream",
     "text": [
      "Epoch 1/18\n",
      "48000/48000 [==============================] - 3s 68us/step - loss: 0.1865 - acc: 0.9292\n",
      "Epoch 2/18\n",
      "48000/48000 [==============================] - 3s 70us/step - loss: 0.1775 - acc: 0.9328\n",
      "Epoch 3/18\n",
      "48000/48000 [==============================] - 3s 69us/step - loss: 0.1773 - acc: 0.9327\n",
      "Epoch 4/18\n",
      "48000/48000 [==============================] - 3s 70us/step - loss: 0.1740 - acc: 0.9347\n",
      "Epoch 5/18\n",
      "48000/48000 [==============================] - 3s 70us/step - loss: 0.1692 - acc: 0.9365\n",
      "Epoch 6/18\n",
      "48000/48000 [==============================] - 3s 69us/step - loss: 0.1633 - acc: 0.9376\n",
      "Epoch 7/18\n",
      "48000/48000 [==============================] - 3s 71us/step - loss: 0.1557 - acc: 0.9415\n",
      "Epoch 8/18\n",
      "48000/48000 [==============================] - 3s 69us/step - loss: 0.1531 - acc: 0.9421\n",
      "Epoch 9/18\n",
      "48000/48000 [==============================] - 3s 70us/step - loss: 0.1475 - acc: 0.9443\n",
      "Epoch 10/18\n",
      "48000/48000 [==============================] - 3s 70us/step - loss: 0.1443 - acc: 0.9462\n",
      "Epoch 11/18\n",
      "48000/48000 [==============================] - 3s 71us/step - loss: 0.1425 - acc: 0.9461\n",
      "Epoch 12/18\n",
      "48000/48000 [==============================] - 3s 68us/step - loss: 0.1353 - acc: 0.9484\n",
      "Epoch 13/18\n",
      "48000/48000 [==============================] - 3s 70us/step - loss: 0.1346 - acc: 0.9491\n",
      "Epoch 14/18\n",
      "48000/48000 [==============================] - 3s 70us/step - loss: 0.1308 - acc: 0.9504\n",
      "Epoch 15/18\n",
      "48000/48000 [==============================] - 3s 70us/step - loss: 0.1306 - acc: 0.9506\n",
      "Epoch 16/18\n",
      "48000/48000 [==============================] - 3s 70us/step - loss: 0.1270 - acc: 0.9516\n",
      "Epoch 17/18\n",
      "48000/48000 [==============================] - 3s 68us/step - loss: 0.1219 - acc: 0.9535\n",
      "Epoch 18/18\n",
      "48000/48000 [==============================] - 3s 70us/step - loss: 0.1202 - acc: 0.9543\n",
      "CNN Error: 8.07%\n"
     ]
    }
   ],
   "source": [
    "\n",
    "#We got to know that the validation loss is minimum at epoch=5, lets fit a new model and evaluate\n",
    "model.fit(x_train_1, y_train_1, epochs=epoch_optimum, batch_size=400)\n",
    "\n",
    "# Final evaluation of the model\n",
    "scores = model.evaluate(x_test, y_test, verbose=0)\n",
    "print(\"CNN Error: %.2f%%\" % (100-scores[1]*100))"
   ]
  },
  {
   "cell_type": "markdown",
   "metadata": {
    "colab_type": "text",
    "id": "M80xvIpT_cne"
   },
   "source": [
    " **we are getting an error of about 8.07% , Let us try to improve this by using Data Processing techniques**"
   ]
  },
  {
   "cell_type": "code",
   "execution_count": 18,
   "metadata": {
    "colab": {
     "base_uri": "https://localhost:8080/",
     "height": 34
    },
    "colab_type": "code",
    "id": "uYyC1-HcHPGo",
    "outputId": "dffbcd35-c5e7-4f3b-ffcc-2b56e716c007"
   },
   "outputs": [
    {
     "name": "stdout",
     "output_type": "stream",
     "text": [
      "Drive already mounted at /content/drive/; to attempt to forcibly remount, call drive.mount(\"/content/drive/\", force_remount=True).\n"
     ]
    }
   ],
   "source": [
    "\n",
    "# mount your Drive\n",
    "import keras\n",
    "from google.colab import drive, files\n",
    "\n",
    "drive.mount('/content/drive/')\n",
    "\n",
    "\n",
    "\n",
    "filepath=\"/content/drive/My Drive/datasets/myweights-improvement-{epoch:02d}-{loss:.4f}.hdf5\"\n",
    "\n",
    "checkpoint = keras.callbacks.ModelCheckpoint(filepath, monitor='loss', verbose=1, save_best_only=True,mode='min')\n",
    "\n",
    "\n",
    "\n",
    "callbacks_list = [checkpoint]"
   ]
  },
  {
   "cell_type": "markdown",
   "metadata": {
    "colab_type": "text",
    "id": "3t3f1VeUAFYR"
   },
   "source": [
    "# **Data Augmentation**\n",
    "\n",
    "### Overfitting is caused by having too few samples to learn from, rendering you unable to train a model that can generalize to new data. Given infinite data, your model would be exposed to every possible aspect of the data distribution at hand: you would never overfit. Data augmentation takes the approach of generating more training data from existing training samples, by augmenting the samples via a number of random transformations that yield believable-looking images. The goal is that at training time, your model will never see the exact same picture twice. This helps expose the model to more aspects of the data and generalize better"
   ]
  },
  {
   "cell_type": "markdown",
   "metadata": {
    "colab_type": "text",
    "id": "Rl7h-LnyeBBg"
   },
   "source": [
    "# **1. Feature Standardization:**standardize pixel values across the entire dataset"
   ]
  },
  {
   "cell_type": "code",
   "execution_count": 0,
   "metadata": {
    "colab": {},
    "colab_type": "code",
    "id": "AkKQ8y3cAh1K"
   },
   "outputs": [],
   "source": [
    "from keras.preprocessing.image import ImageDataGenerator\n",
    "from keras.utils import np_utils\n",
    "from keras import backend as K\n",
    "K.set_image_dim_ordering('th')\n",
    "\n",
    "datagen = ImageDataGenerator(featurewise_center=True,featurewise_std_normalization=True)\n",
    "\n",
    "datagen.fit(x_train_1)\n",
    "\n",
    "augmented_data_X = []\n",
    "augmented_data_y = []\n",
    "\n",
    "num_augmented = 0\n",
    "batch_size = 128\n",
    "for X_batch, y_batch in datagen.flow(x_train_1, y_train_1, batch_size = batch_size, shuffle=False):\n",
    "    augmented_data_X.append(X_batch)\n",
    "    augmented_data_y.append(y_batch)\n",
    "    num_augmented += batch_size\n",
    "    if num_augmented == x_train_1.shape[0]:\n",
    "        break\n",
    "augmented_data_X = np.concatenate(augmented_data_X)\n",
    "augmented_data_y = np.concatenate(augmented_data_y)\n"
   ]
  },
  {
   "cell_type": "code",
   "execution_count": 20,
   "metadata": {
    "colab": {
     "base_uri": "https://localhost:8080/",
     "height": 593
    },
    "colab_type": "code",
    "id": "_n-UsCZ3kTs6",
    "outputId": "7bfb01ba-4c3f-4317-f6d0-fc79a4e1a432"
   },
   "outputs": [
    {
     "data": {
      "image/png": "[encoded data removed]",
      "text/plain": [
       "<Figure size 720x720 with 8 Axes>"
      ]
     },
     "metadata": {
      "tags": []
     },
     "output_type": "display_data"
    }
   ],
   "source": [
    "# reshape to be [samples][channels][width][height]\n",
    "augmented_data_X = augmented_data_X.reshape(augmented_data_X.shape[0], 1, 28, 28).astype( 'float32' )\n",
    "\n",
    "# normalize inputs from 0-255 to 0-1\n",
    "augmented_data_X  = augmented_data_X  / 255\n",
    "\n",
    "#Let us see how couple of images look in the augmented data set\n",
    "fig, ax = plt.subplots(nrows=4, ncols=2,figsize=(10,10))\n",
    "for i in range(0,8):\n",
    "  plt.subplot(4,2,i+1)\n",
    "  plt.imshow(augmented_data_X[i].reshape(28, 28), cmap=plt.get_cmap( 'gray' ))\n",
    "\n",
    "\n"
   ]
  },
  {
   "cell_type": "markdown",
   "metadata": {
    "colab_type": "text",
    "id": "I5Rv3yG17-4n"
   },
   "source": [
    "**We see that the images and the patterns are much better than before**"
   ]
  },
  {
   "cell_type": "code",
   "execution_count": 21,
   "metadata": {
    "colab": {
     "base_uri": "https://localhost:8080/",
     "height": 1714
    },
    "colab_type": "code",
    "id": "M5JnMfdbtSCR",
    "outputId": "d12a8836-c964-438d-c72d-a85ef3c9ed64"
   },
   "outputs": [
    {
     "name": "stdout",
     "output_type": "stream",
     "text": [
      "Train on 96000 samples, validate on 12000 samples\n",
      "Epoch 1/50\n",
      " - 6s - loss: 0.5964 - acc: 0.7869 - val_loss: 0.2627 - val_acc: 0.9173\n",
      "Epoch 2/50\n",
      " - 6s - loss: 0.3460 - acc: 0.8699 - val_loss: 0.2840 - val_acc: 0.9185\n",
      "Epoch 3/50\n",
      " - 6s - loss: 0.3113 - acc: 0.8836 - val_loss: 0.2898 - val_acc: 0.9080\n",
      "Epoch 4/50\n",
      " - 6s - loss: 0.2915 - acc: 0.8906 - val_loss: 0.2853 - val_acc: 0.9166\n",
      "Epoch 5/50\n",
      " - 6s - loss: 0.2788 - acc: 0.8954 - val_loss: 0.2811 - val_acc: 0.9133\n",
      "Epoch 6/50\n",
      " - 6s - loss: 0.2668 - acc: 0.9005 - val_loss: 0.2841 - val_acc: 0.9172\n",
      "Epoch 7/50\n",
      " - 6s - loss: 0.2565 - acc: 0.9046 - val_loss: 0.3051 - val_acc: 0.9122\n",
      "Epoch 8/50\n",
      " - 6s - loss: 0.2494 - acc: 0.9071 - val_loss: 0.2945 - val_acc: 0.9180\n",
      "Epoch 9/50\n",
      " - 6s - loss: 0.2441 - acc: 0.9073 - val_loss: 0.2967 - val_acc: 0.9154\n",
      "Epoch 10/50\n",
      " - 6s - loss: 0.2376 - acc: 0.9113 - val_loss: 0.2924 - val_acc: 0.9142\n",
      "Epoch 11/50\n",
      " - 6s - loss: 0.2333 - acc: 0.9133 - val_loss: 0.3031 - val_acc: 0.9138\n",
      "Epoch 12/50\n",
      " - 6s - loss: 0.2233 - acc: 0.9167 - val_loss: 0.3006 - val_acc: 0.9162\n",
      "Epoch 13/50\n",
      " - 6s - loss: 0.2192 - acc: 0.9174 - val_loss: 0.3215 - val_acc: 0.9178\n",
      "Epoch 14/50\n",
      " - 6s - loss: 0.2171 - acc: 0.9186 - val_loss: 0.3231 - val_acc: 0.9182\n",
      "Epoch 15/50\n",
      " - 6s - loss: 0.2110 - acc: 0.9218 - val_loss: 0.3121 - val_acc: 0.9193\n",
      "Epoch 16/50\n",
      " - 6s - loss: 0.2095 - acc: 0.9218 - val_loss: 0.3350 - val_acc: 0.9181\n",
      "Epoch 17/50\n",
      " - 6s - loss: 0.2054 - acc: 0.9235 - val_loss: 0.3403 - val_acc: 0.9143\n",
      "Epoch 18/50\n",
      " - 6s - loss: 0.2023 - acc: 0.9241 - val_loss: 0.3315 - val_acc: 0.9177\n",
      "Epoch 19/50\n",
      " - 6s - loss: 0.2016 - acc: 0.9247 - val_loss: 0.3203 - val_acc: 0.9171\n",
      "Epoch 20/50\n",
      " - 6s - loss: 0.1933 - acc: 0.9282 - val_loss: 0.3317 - val_acc: 0.9172\n",
      "Epoch 21/50\n",
      " - 6s - loss: 0.1949 - acc: 0.9274 - val_loss: 0.3468 - val_acc: 0.9149\n",
      "Epoch 22/50\n",
      " - 6s - loss: 0.1915 - acc: 0.9283 - val_loss: 0.3305 - val_acc: 0.9168\n",
      "Epoch 23/50\n",
      " - 6s - loss: 0.1864 - acc: 0.9301 - val_loss: 0.3488 - val_acc: 0.9172\n",
      "Epoch 24/50\n",
      " - 6s - loss: 0.1852 - acc: 0.9309 - val_loss: 0.3961 - val_acc: 0.9158\n",
      "Epoch 25/50\n",
      " - 6s - loss: 0.1832 - acc: 0.9315 - val_loss: 0.3487 - val_acc: 0.9192\n",
      "Epoch 26/50\n",
      " - 6s - loss: 0.1788 - acc: 0.9329 - val_loss: 0.3554 - val_acc: 0.9203\n",
      "Epoch 27/50\n",
      " - 6s - loss: 0.1758 - acc: 0.9343 - val_loss: 0.3691 - val_acc: 0.9146\n",
      "Epoch 28/50\n",
      " - 6s - loss: 0.1743 - acc: 0.9348 - val_loss: 0.3705 - val_acc: 0.9163\n",
      "Epoch 29/50\n",
      " - 6s - loss: 0.1717 - acc: 0.9355 - val_loss: 0.3627 - val_acc: 0.9198\n",
      "Epoch 30/50\n",
      " - 6s - loss: 0.1700 - acc: 0.9363 - val_loss: 0.3603 - val_acc: 0.9166\n",
      "Epoch 31/50\n",
      " - 6s - loss: 0.1682 - acc: 0.9368 - val_loss: 0.3777 - val_acc: 0.9156\n",
      "Epoch 32/50\n",
      " - 6s - loss: 0.1646 - acc: 0.9390 - val_loss: 0.3806 - val_acc: 0.9153\n",
      "Epoch 33/50\n",
      " - 6s - loss: 0.1632 - acc: 0.9390 - val_loss: 0.3731 - val_acc: 0.9166\n",
      "Epoch 34/50\n",
      " - 6s - loss: 0.1635 - acc: 0.9388 - val_loss: 0.3744 - val_acc: 0.9173\n",
      "Epoch 35/50\n",
      " - 6s - loss: 0.1610 - acc: 0.9404 - val_loss: 0.3960 - val_acc: 0.9188\n",
      "Epoch 36/50\n",
      " - 6s - loss: 0.1577 - acc: 0.9420 - val_loss: 0.3713 - val_acc: 0.9172\n",
      "Epoch 37/50\n",
      " - 6s - loss: 0.1537 - acc: 0.9424 - val_loss: 0.3950 - val_acc: 0.9178\n",
      "Epoch 38/50\n",
      " - 6s - loss: 0.1568 - acc: 0.9418 - val_loss: 0.3648 - val_acc: 0.9159\n",
      "Epoch 39/50\n",
      " - 6s - loss: 0.1516 - acc: 0.9438 - val_loss: 0.4054 - val_acc: 0.9148\n",
      "Epoch 40/50\n",
      " - 6s - loss: 0.1529 - acc: 0.9423 - val_loss: 0.4036 - val_acc: 0.9181\n",
      "Epoch 41/50\n",
      " - 6s - loss: 0.1512 - acc: 0.9442 - val_loss: 0.4198 - val_acc: 0.9161\n",
      "Epoch 42/50\n",
      " - 6s - loss: 0.1469 - acc: 0.9445 - val_loss: 0.3948 - val_acc: 0.9197\n",
      "Epoch 43/50\n",
      " - 6s - loss: 0.1474 - acc: 0.9455 - val_loss: 0.4101 - val_acc: 0.9148\n",
      "Epoch 44/50\n",
      " - 6s - loss: 0.1446 - acc: 0.9453 - val_loss: 0.3841 - val_acc: 0.9171\n",
      "Epoch 45/50\n",
      " - 6s - loss: 0.1442 - acc: 0.9460 - val_loss: 0.3757 - val_acc: 0.9151\n",
      "Epoch 46/50\n",
      " - 6s - loss: 0.1415 - acc: 0.9477 - val_loss: 0.3974 - val_acc: 0.9173\n",
      "Epoch 47/50\n",
      " - 6s - loss: 0.1393 - acc: 0.9482 - val_loss: 0.4179 - val_acc: 0.9195\n",
      "Epoch 48/50\n",
      " - 6s - loss: 0.1380 - acc: 0.9484 - val_loss: 0.3890 - val_acc: 0.9192\n",
      "Epoch 49/50\n",
      " - 6s - loss: 0.1338 - acc: 0.9511 - val_loss: 0.4085 - val_acc: 0.9179\n",
      "Epoch 50/50\n",
      " - 6s - loss: 0.1361 - acc: 0.9482 - val_loss: 0.4236 - val_acc: 0.9186\n"
     ]
    }
   ],
   "source": [
    "#Let us append the augmented image with the original xtrain and we get a total of 96000 training images now in total,12000 images for validation and 10000 images for testing\n",
    "X_new = np.concatenate((x_train_1,augmented_data_X))\n",
    "Y_new = np.concatenate((y_train_1,augmented_data_y))\n",
    "\n",
    "\n",
    "history =  model.fit(X_new, Y_new, validation_data=(x_valid, y_valid), epochs=50, batch_size=400,verbose=2)\n"
   ]
  },
  {
   "cell_type": "code",
   "execution_count": 22,
   "metadata": {
    "colab": {
     "base_uri": "https://localhost:8080/",
     "height": 393
    },
    "colab_type": "code",
    "id": "U012GRLSGH4c",
    "outputId": "27870a80-769d-4a8d-b4ab-bf95070d9399"
   },
   "outputs": [
    {
     "data": {
      "image/png": "[encoded data removed]",
      "text/plain": [
       "<Figure size 576x396 with 1 Axes>"
      ]
     },
     "metadata": {
      "tags": []
     },
     "output_type": "display_data"
    },
    {
     "name": "stdout",
     "output_type": "stream",
     "text": [
      "Optimum epoch:=  0\n"
     ]
    }
   ],
   "source": [
    "# Lets plot the graph of Training loss vs Validation Loss\n",
    "import matplotlib.pyplot as plt\n",
    "\n",
    "loss = history.history['loss']\n",
    "val_loss = history.history['val_loss']\n",
    "\n",
    "epochs = range(1, len(loss) + 1)\n",
    "\n",
    "plt.plot(epochs, loss, 'bo', label='Training loss')\n",
    "plt.plot(epochs, val_loss, 'b', label='Validation loss')\n",
    "plt.title('Training and validation loss')\n",
    "plt.xlabel('Epochs')\n",
    "plt.ylabel('Loss')\n",
    "plt.legend()\n",
    "\n",
    "plt.show() \n",
    "\n",
    "epoch_optimum= np.argmin(val_loss) \n",
    "\n",
    "print(\"Optimum epoch:= \", epoch_optimum)"
   ]
  },
  {
   "cell_type": "code",
   "execution_count": 23,
   "metadata": {
    "colab": {
     "base_uri": "https://localhost:8080/",
     "height": 34
    },
    "colab_type": "code",
    "id": "vnxbdT8Qt_Y4",
    "outputId": "98369659-dfa7-4599-dd61-dc18f8a01b60"
   },
   "outputs": [
    {
     "name": "stdout",
     "output_type": "stream",
     "text": [
      "CNN Error: 8.43%\n"
     ]
    }
   ],
   "source": [
    "\n",
    "#We got to know that the validation loss is minimum at epoch=5, lets fit a new model and evaluate\n",
    "model.fit(X_new, Y_new, epochs= epoch_optimum, batch_size=400)\n",
    "\n",
    "# Final evaluation of the model\n",
    "scores_2 = model.evaluate(x_test, y_test, verbose=0)\n",
    "print(\"CNN Error: %.2f%%\" % (100-scores_2[1]*100))"
   ]
  },
  {
   "cell_type": "markdown",
   "metadata": {
    "colab_type": "text",
    "id": "DdI_MjRa8Z1J"
   },
   "source": [
    "**We see that the model is performing more or less the same way, with error close to the model without augmented images**"
   ]
  },
  {
   "cell_type": "code",
   "execution_count": 24,
   "metadata": {
    "colab": {
     "base_uri": "https://localhost:8080/",
     "height": 34
    },
    "colab_type": "code",
    "id": "Aqx8W3XpHHOZ",
    "outputId": "011ebf1a-95b9-4e0a-ea79-b15ea99e85e7"
   },
   "outputs": [
    {
     "name": "stdout",
     "output_type": "stream",
     "text": [
      "Drive already mounted at /content/drive/; to attempt to forcibly remount, call drive.mount(\"/content/drive/\", force_remount=True).\n"
     ]
    }
   ],
   "source": [
    "\n",
    "# mount your Drive\n",
    "import keras\n",
    "from google.colab import drive, files\n",
    "\n",
    "drive.mount('/content/drive/')\n",
    "\n",
    "\n",
    "\n",
    "filepath=\"/content/drive/My Drive/datasets_1/myweights-improvement-{epoch:02d}-{loss:.4f}.hdf5\"\n",
    "\n",
    "checkpoint_1 = keras.callbacks.ModelCheckpoint(filepath, monitor='loss', verbose=1, save_best_only=True,mode='min')\n",
    "\n",
    "\n",
    "\n",
    "callbacks_list = [checkpoint_1]"
   ]
  },
  {
   "cell_type": "markdown",
   "metadata": {
    "colab_type": "text",
    "id": "PusqhAW68jbX"
   },
   "source": [
    "# **2. Random Rotation + Standardisation**"
   ]
  },
  {
   "cell_type": "code",
   "execution_count": 25,
   "metadata": {
    "colab": {
     "base_uri": "https://localhost:8080/",
     "height": 104
    },
    "colab_type": "code",
    "id": "vxjrRsS58iPQ",
    "outputId": "8c8de2fb-7fc1-4473-e2ca-977b55cebbdc"
   },
   "outputs": [
    {
     "name": "stderr",
     "output_type": "stream",
     "text": [
      "/usr/local/lib/python3.6/dist-packages/keras_preprocessing/image/image_data_generator.py:699: UserWarning: This ImageDataGenerator specifies `featurewise_center`, but it hasn't been fit on any training data. Fit it first by calling `.fit(numpy_data)`.\n",
      "  warnings.warn('This ImageDataGenerator specifies '\n",
      "/usr/local/lib/python3.6/dist-packages/keras_preprocessing/image/image_data_generator.py:707: UserWarning: This ImageDataGenerator specifies `featurewise_std_normalization`, but it hasn't been fit on any training data. Fit it first by calling `.fit(numpy_data)`.\n",
      "  warnings.warn('This ImageDataGenerator specifies '\n"
     ]
    }
   ],
   "source": [
    "\n",
    "datagen = ImageDataGenerator(featurewise_center=True,featurewise_std_normalization=True,rotation_range = 20)\n",
    "\n",
    "\n",
    "augmented_data_X_part2 = []\n",
    "augmented_data_y_part2 = []\n",
    "\n",
    "num_augmented = 0\n",
    "batch_size = 128\n",
    "for X_batch, y_batch in datagen.flow(x_train_1, y_train_1, batch_size = batch_size, shuffle=False):\n",
    "    augmented_data_X_part2.append(X_batch)\n",
    "    augmented_data_y_part2.append(y_batch)\n",
    "    num_augmented += batch_size\n",
    "    if num_augmented == x_train_1.shape[0]:\n",
    "        break\n",
    "augmented_data_X_part2 = np.concatenate(augmented_data_X_part2)\n",
    "augmented_data_y_part2 = np.concatenate(augmented_data_y_part2)"
   ]
  },
  {
   "cell_type": "code",
   "execution_count": 26,
   "metadata": {
    "colab": {
     "base_uri": "https://localhost:8080/",
     "height": 593
    },
    "colab_type": "code",
    "id": "3CNJt8xv8YHe",
    "outputId": "3a0208f8-bea9-4e32-c5c5-a6c5132fdf22"
   },
   "outputs": [
    {
     "data": {
      "image/png": "[encoded data removed]",
      "text/plain": [
       "<Figure size 720x720 with 8 Axes>"
      ]
     },
     "metadata": {
      "tags": []
     },
     "output_type": "display_data"
    }
   ],
   "source": [
    "#LEt us see how the sample looks like\n",
    "\n",
    "# reshape to be [samples][channels][width][height]\n",
    "augmented_data_X_part2 = augmented_data_X_part2.reshape(augmented_data_X_part2.shape[0], 1, 28, 28).astype( 'float32' )\n",
    "\n",
    "# normalize inputs from 0-255 to 0-1\n",
    "augmented_data_X_part2  = augmented_data_X_part2  / 255\n",
    "\n",
    "#Let us see how couple of images look in the augmented data set\n",
    "fig, ax = plt.subplots(nrows=4, ncols=2,figsize=(10,10))\n",
    "for i in range(0,8):\n",
    "  plt.subplot(4,2,i+1)\n",
    "  plt.imshow(augmented_data_X_part2[i].reshape(28, 28), cmap=plt.get_cmap( 'gray' ))\n",
    "\n",
    "\n"
   ]
  },
  {
   "cell_type": "code",
   "execution_count": 27,
   "metadata": {
    "colab": {
     "base_uri": "https://localhost:8080/",
     "height": 1714
    },
    "colab_type": "code",
    "id": "_5AiRhWc9uDN",
    "outputId": "9678db68-cbd5-4ed3-c8c4-f09738cddccb"
   },
   "outputs": [
    {
     "name": "stdout",
     "output_type": "stream",
     "text": [
      "Train on 96000 samples, validate on 12000 samples\n",
      "Epoch 1/50\n",
      " - 6s - loss: 0.4229 - acc: 0.8451 - val_loss: 0.4104 - val_acc: 0.9145\n",
      "Epoch 2/50\n",
      " - 6s - loss: 0.3168 - acc: 0.8821 - val_loss: 0.3909 - val_acc: 0.9143\n",
      "Epoch 3/50\n",
      " - 6s - loss: 0.2951 - acc: 0.8889 - val_loss: 0.4293 - val_acc: 0.9130\n",
      "Epoch 4/50\n",
      " - 6s - loss: 0.2853 - acc: 0.8929 - val_loss: 0.4280 - val_acc: 0.9132\n",
      "Epoch 5/50\n",
      " - 6s - loss: 0.2713 - acc: 0.8974 - val_loss: 0.4053 - val_acc: 0.9185\n",
      "Epoch 6/50\n",
      " - 6s - loss: 0.2621 - acc: 0.9023 - val_loss: 0.4196 - val_acc: 0.9148\n",
      "Epoch 7/50\n",
      " - 6s - loss: 0.2560 - acc: 0.9042 - val_loss: 0.4203 - val_acc: 0.9133\n",
      "Epoch 8/50\n",
      " - 6s - loss: 0.2493 - acc: 0.9068 - val_loss: 0.4052 - val_acc: 0.9194\n",
      "Epoch 9/50\n",
      " - 6s - loss: 0.2421 - acc: 0.9095 - val_loss: 0.4172 - val_acc: 0.9205\n",
      "Epoch 10/50\n",
      " - 6s - loss: 0.2390 - acc: 0.9103 - val_loss: 0.4225 - val_acc: 0.9172\n",
      "Epoch 11/50\n",
      " - 6s - loss: 0.2381 - acc: 0.9112 - val_loss: 0.4162 - val_acc: 0.9178\n",
      "Epoch 12/50\n",
      " - 6s - loss: 0.2352 - acc: 0.9128 - val_loss: 0.4068 - val_acc: 0.9178\n",
      "Epoch 13/50\n",
      " - 6s - loss: 0.2279 - acc: 0.9145 - val_loss: 0.4285 - val_acc: 0.9177\n",
      "Epoch 14/50\n",
      " - 6s - loss: 0.2293 - acc: 0.9144 - val_loss: 0.4411 - val_acc: 0.9165\n",
      "Epoch 15/50\n",
      " - 6s - loss: 0.2247 - acc: 0.9156 - val_loss: 0.4389 - val_acc: 0.9121\n",
      "Epoch 16/50\n",
      " - 6s - loss: 0.2242 - acc: 0.9172 - val_loss: 0.4095 - val_acc: 0.9200\n",
      "Epoch 17/50\n",
      " - 6s - loss: 0.2204 - acc: 0.9173 - val_loss: 0.4151 - val_acc: 0.9191\n",
      "Epoch 18/50\n",
      " - 6s - loss: 0.2208 - acc: 0.9182 - val_loss: 0.4109 - val_acc: 0.9183\n",
      "Epoch 19/50\n",
      " - 6s - loss: 0.2158 - acc: 0.9193 - val_loss: 0.4275 - val_acc: 0.9188\n",
      "Epoch 20/50\n",
      " - 6s - loss: 0.2161 - acc: 0.9198 - val_loss: 0.4140 - val_acc: 0.9173\n",
      "Epoch 21/50\n",
      " - 6s - loss: 0.2135 - acc: 0.9203 - val_loss: 0.4254 - val_acc: 0.9180\n",
      "Epoch 22/50\n",
      " - 6s - loss: 0.2127 - acc: 0.9195 - val_loss: 0.4094 - val_acc: 0.9168\n",
      "Epoch 23/50\n",
      " - 6s - loss: 0.2084 - acc: 0.9219 - val_loss: 0.4284 - val_acc: 0.9197\n",
      "Epoch 24/50\n",
      " - 6s - loss: 0.2077 - acc: 0.9221 - val_loss: 0.4501 - val_acc: 0.9148\n",
      "Epoch 25/50\n",
      " - 6s - loss: 0.2085 - acc: 0.9225 - val_loss: 0.4340 - val_acc: 0.9169\n",
      "Epoch 26/50\n",
      " - 6s - loss: 0.2077 - acc: 0.9226 - val_loss: 0.4000 - val_acc: 0.9197\n",
      "Epoch 27/50\n",
      " - 6s - loss: 0.2011 - acc: 0.9250 - val_loss: 0.4049 - val_acc: 0.9226\n",
      "Epoch 28/50\n",
      " - 6s - loss: 0.2034 - acc: 0.9245 - val_loss: 0.4228 - val_acc: 0.9167\n",
      "Epoch 29/50\n",
      " - 6s - loss: 0.2019 - acc: 0.9244 - val_loss: 0.4101 - val_acc: 0.9198\n",
      "Epoch 30/50\n",
      " - 6s - loss: 0.1977 - acc: 0.9257 - val_loss: 0.4146 - val_acc: 0.9198\n",
      "Epoch 31/50\n",
      " - 6s - loss: 0.1973 - acc: 0.9260 - val_loss: 0.4260 - val_acc: 0.9213\n",
      "Epoch 32/50\n",
      " - 6s - loss: 0.1948 - acc: 0.9273 - val_loss: 0.4238 - val_acc: 0.9190\n",
      "Epoch 33/50\n",
      " - 6s - loss: 0.1931 - acc: 0.9280 - val_loss: 0.4130 - val_acc: 0.9201\n",
      "Epoch 34/50\n",
      " - 6s - loss: 0.1952 - acc: 0.9274 - val_loss: 0.4143 - val_acc: 0.9208\n",
      "Epoch 35/50\n",
      " - 6s - loss: 0.1917 - acc: 0.9276 - val_loss: 0.3828 - val_acc: 0.9201\n",
      "Epoch 36/50\n",
      " - 6s - loss: 0.1885 - acc: 0.9293 - val_loss: 0.4271 - val_acc: 0.9181\n",
      "Epoch 37/50\n",
      " - 6s - loss: 0.1897 - acc: 0.9285 - val_loss: 0.4378 - val_acc: 0.9217\n",
      "Epoch 38/50\n",
      " - 6s - loss: 0.1895 - acc: 0.9287 - val_loss: 0.4514 - val_acc: 0.9172\n",
      "Epoch 39/50\n",
      " - 6s - loss: 0.1894 - acc: 0.9292 - val_loss: 0.3976 - val_acc: 0.9190\n",
      "Epoch 40/50\n",
      " - 6s - loss: 0.1869 - acc: 0.9308 - val_loss: 0.4264 - val_acc: 0.9186\n",
      "Epoch 41/50\n",
      " - 6s - loss: 0.1859 - acc: 0.9297 - val_loss: 0.4038 - val_acc: 0.9208\n",
      "Epoch 42/50\n",
      " - 6s - loss: 0.1860 - acc: 0.9313 - val_loss: 0.4299 - val_acc: 0.9196\n",
      "Epoch 43/50\n",
      " - 6s - loss: 0.1869 - acc: 0.9296 - val_loss: 0.4248 - val_acc: 0.9194\n",
      "Epoch 44/50\n",
      " - 6s - loss: 0.1838 - acc: 0.9309 - val_loss: 0.4079 - val_acc: 0.9172\n",
      "Epoch 45/50\n",
      " - 6s - loss: 0.1786 - acc: 0.9325 - val_loss: 0.4240 - val_acc: 0.9198\n",
      "Epoch 46/50\n",
      " - 6s - loss: 0.1822 - acc: 0.9316 - val_loss: 0.4012 - val_acc: 0.9204\n",
      "Epoch 47/50\n",
      " - 6s - loss: 0.1787 - acc: 0.9333 - val_loss: 0.4317 - val_acc: 0.9191\n",
      "Epoch 48/50\n",
      " - 6s - loss: 0.1816 - acc: 0.9319 - val_loss: 0.4178 - val_acc: 0.9222\n",
      "Epoch 49/50\n",
      " - 6s - loss: 0.1759 - acc: 0.9341 - val_loss: 0.4139 - val_acc: 0.9201\n",
      "Epoch 50/50\n",
      " - 6s - loss: 0.1754 - acc: 0.9341 - val_loss: 0.3997 - val_acc: 0.9194\n"
     ]
    }
   ],
   "source": [
    "\n",
    "\n",
    "X_new_part2 = np.concatenate((x_train_1,augmented_data_X_part2))\n",
    "Y_new_part2 = np.concatenate((y_train_1,augmented_data_y_part2))\n",
    "\n",
    "history = model.fit(X_new_part2, Y_new_part2, validation_data=(x_valid, y_valid), epochs=50, batch_size=400,verbose=2)\n"
   ]
  },
  {
   "cell_type": "code",
   "execution_count": 28,
   "metadata": {
    "colab": {
     "base_uri": "https://localhost:8080/",
     "height": 393
    },
    "colab_type": "code",
    "id": "3ur10Lw9DI0E",
    "outputId": "5824a6ac-dd3a-44dc-a0b8-940c69922bd9"
   },
   "outputs": [
    {
     "data": {
      "image/png": "[encoded data removed]",
      "text/plain": [
       "<Figure size 576x396 with 1 Axes>"
      ]
     },
     "metadata": {
      "tags": []
     },
     "output_type": "display_data"
    },
    {
     "name": "stdout",
     "output_type": "stream",
     "text": [
      "Optimum epoch:=  34\n"
     ]
    }
   ],
   "source": [
    "# Lets plot the graph of Training loss vs Validation Loss\n",
    "import matplotlib.pyplot as plt\n",
    "\n",
    "loss = history.history['loss']\n",
    "val_loss = history.history['val_loss']\n",
    "\n",
    "epochs = range(1, len(loss) + 1)\n",
    "\n",
    "plt.plot(epochs, loss, 'bo', label='Training loss')\n",
    "plt.plot(epochs, val_loss, 'b', label='Validation loss')\n",
    "plt.title('Training and validation loss')\n",
    "plt.xlabel('Epochs')\n",
    "plt.ylabel('Loss')\n",
    "plt.legend()\n",
    "\n",
    "plt.show() \n",
    "\n",
    "epoch_optimum= np.argmin(val_loss) \n",
    "\n",
    "print(\"Optimum epoch:= \", epoch_optimum)"
   ]
  },
  {
   "cell_type": "code",
   "execution_count": 30,
   "metadata": {
    "colab": {
     "base_uri": "https://localhost:8080/",
     "height": 1176
    },
    "colab_type": "code",
    "id": "ccB5CaMdERag",
    "outputId": "e93fb872-960c-46b5-ed1d-ecf981c5961f"
   },
   "outputs": [
    {
     "name": "stdout",
     "output_type": "stream",
     "text": [
      "Epoch 1/34\n",
      "96000/96000 [==============================] - 7s 69us/step - loss: 0.1725 - acc: 0.9345\n",
      "Epoch 2/34\n",
      "96000/96000 [==============================] - 7s 69us/step - loss: 0.1696 - acc: 0.9364\n",
      "Epoch 3/34\n",
      "96000/96000 [==============================] - 7s 69us/step - loss: 0.1757 - acc: 0.9339\n",
      "Epoch 4/34\n",
      "96000/96000 [==============================] - 7s 68us/step - loss: 0.1741 - acc: 0.9352\n",
      "Epoch 5/34\n",
      "96000/96000 [==============================] - 7s 69us/step - loss: 0.1696 - acc: 0.9361\n",
      "Epoch 6/34\n",
      "96000/96000 [==============================] - 7s 69us/step - loss: 0.1679 - acc: 0.9372\n",
      "Epoch 7/34\n",
      "96000/96000 [==============================] - 7s 69us/step - loss: 0.1703 - acc: 0.9358\n",
      "Epoch 8/34\n",
      "96000/96000 [==============================] - 7s 69us/step - loss: 0.1683 - acc: 0.9368\n",
      "Epoch 9/34\n",
      "96000/96000 [==============================] - 7s 68us/step - loss: 0.1700 - acc: 0.9356\n",
      "Epoch 10/34\n",
      "96000/96000 [==============================] - 6s 67us/step - loss: 0.1687 - acc: 0.9371\n",
      "Epoch 11/34\n",
      "96000/96000 [==============================] - 6s 67us/step - loss: 0.1647 - acc: 0.9382\n",
      "Epoch 12/34\n",
      "96000/96000 [==============================] - 6s 67us/step - loss: 0.1663 - acc: 0.9376\n",
      "Epoch 13/34\n",
      "96000/96000 [==============================] - 6s 67us/step - loss: 0.1658 - acc: 0.9382\n",
      "Epoch 14/34\n",
      "96000/96000 [==============================] - 6s 67us/step - loss: 0.1659 - acc: 0.9371\n",
      "Epoch 15/34\n",
      "96000/96000 [==============================] - 6s 67us/step - loss: 0.1635 - acc: 0.9389\n",
      "Epoch 16/34\n",
      "96000/96000 [==============================] - 6s 67us/step - loss: 0.1624 - acc: 0.9393\n",
      "Epoch 17/34\n",
      "96000/96000 [==============================] - 6s 67us/step - loss: 0.1626 - acc: 0.9386\n",
      "Epoch 18/34\n",
      "96000/96000 [==============================] - 6s 67us/step - loss: 0.1605 - acc: 0.9400\n",
      "Epoch 19/34\n",
      "96000/96000 [==============================] - 6s 67us/step - loss: 0.1682 - acc: 0.9368\n",
      "Epoch 20/34\n",
      "96000/96000 [==============================] - 6s 67us/step - loss: 0.1562 - acc: 0.9411\n",
      "Epoch 21/34\n",
      "96000/96000 [==============================] - 7s 70us/step - loss: 0.1609 - acc: 0.9392\n",
      "Epoch 22/34\n",
      "96000/96000 [==============================] - 7s 71us/step - loss: 0.1598 - acc: 0.9403\n",
      "Epoch 23/34\n",
      "96000/96000 [==============================] - 7s 71us/step - loss: 0.1583 - acc: 0.9409\n",
      "Epoch 24/34\n",
      "96000/96000 [==============================] - 7s 71us/step - loss: 0.1594 - acc: 0.9402\n",
      "Epoch 25/34\n",
      "96000/96000 [==============================] - 7s 71us/step - loss: 0.1575 - acc: 0.9399\n",
      "Epoch 26/34\n",
      "96000/96000 [==============================] - 7s 70us/step - loss: 0.1566 - acc: 0.9404\n",
      "Epoch 27/34\n",
      "96000/96000 [==============================] - 7s 70us/step - loss: 0.1561 - acc: 0.9417\n",
      "Epoch 28/34\n",
      "96000/96000 [==============================] - 7s 70us/step - loss: 0.1544 - acc: 0.9424\n",
      "Epoch 29/34\n",
      "96000/96000 [==============================] - 7s 70us/step - loss: 0.1577 - acc: 0.9415\n",
      "Epoch 30/34\n",
      "96000/96000 [==============================] - 7s 70us/step - loss: 0.1543 - acc: 0.9417\n",
      "Epoch 31/34\n",
      "96000/96000 [==============================] - 7s 70us/step - loss: 0.1512 - acc: 0.9431\n",
      "Epoch 32/34\n",
      "96000/96000 [==============================] - 7s 71us/step - loss: 0.1549 - acc: 0.9417\n",
      "Epoch 33/34\n",
      "96000/96000 [==============================] - 7s 71us/step - loss: 0.1515 - acc: 0.9426\n",
      "Epoch 34/34\n",
      "96000/96000 [==============================] - 7s 70us/step - loss: 0.1506 - acc: 0.9441\n",
      "CNN Error: 8.52%\n"
     ]
    }
   ],
   "source": [
    "#We got to know that the validation loss is minimum at epoch=5, lets fit a new model and evaluate\n",
    "model.fit(X_new_part2, Y_new_part2, epochs=epoch_optimum , batch_size=400)\n",
    "\n",
    "# Final evaluation of the model\n",
    "scores_part2 = model.evaluate(x_test, y_test, verbose=0)\n",
    "print(\"CNN Error: %.2f%%\" % (100-scores_part2[1]*100))"
   ]
  },
  {
   "cell_type": "code",
   "execution_count": 31,
   "metadata": {
    "colab": {
     "base_uri": "https://localhost:8080/",
     "height": 34
    },
    "colab_type": "code",
    "id": "IH3FiT3h_tvJ",
    "outputId": "6f5be2d2-f168-410d-8282-137cb0e494e2"
   },
   "outputs": [
    {
     "name": "stdout",
     "output_type": "stream",
     "text": [
      "Drive already mounted at /content/drive/; to attempt to forcibly remount, call drive.mount(\"/content/drive/\", force_remount=True).\n"
     ]
    }
   ],
   "source": [
    "\n",
    "# mount your Drive\n",
    "import keras\n",
    "from google.colab import drive, files\n",
    "\n",
    "drive.mount('/content/drive/')\n",
    "\n",
    "\n",
    "\n",
    "filepath=\"/content/drive/My Drive/datasets_2/myweights-improvement-{epoch:02d}-{loss:.4f}.hdf5\"\n",
    "\n",
    "checkpoint_2 = keras.callbacks.ModelCheckpoint(filepath, monitor='loss', verbose=1, save_best_only=True,mode='min')\n",
    "\n",
    "\n",
    "\n",
    "callbacks_list = [checkpoint_2]"
   ]
  },
  {
   "cell_type": "markdown",
   "metadata": {
    "colab_type": "text",
    "id": "tPhVQ27cHb8i"
   },
   "source": [
    "# **3. Standardisation + ZCA Whitening + Random Shifts**"
   ]
  },
  {
   "cell_type": "code",
   "execution_count": 32,
   "metadata": {
    "colab": {
     "base_uri": "https://localhost:8080/",
     "height": 138
    },
    "colab_type": "code",
    "id": "k1L3_-HoHdZQ",
    "outputId": "9cd1dcbd-e788-43b8-b61b-fc36c64e6fbb"
   },
   "outputs": [
    {
     "name": "stderr",
     "output_type": "stream",
     "text": [
      "/usr/local/lib/python3.6/dist-packages/keras_preprocessing/image/image_data_generator.py:339: UserWarning: This ImageDataGenerator specifies `zca_whitening` which overrides setting of`featurewise_std_normalization`.\n",
      "  warnings.warn('This ImageDataGenerator specifies '\n",
      "/usr/local/lib/python3.6/dist-packages/keras_preprocessing/image/image_data_generator.py:699: UserWarning: This ImageDataGenerator specifies `featurewise_center`, but it hasn't been fit on any training data. Fit it first by calling `.fit(numpy_data)`.\n",
      "  warnings.warn('This ImageDataGenerator specifies '\n",
      "/usr/local/lib/python3.6/dist-packages/keras_preprocessing/image/image_data_generator.py:718: UserWarning: This ImageDataGenerator specifies `zca_whitening`, but it hasn't been fit on any training data. Fit it first by calling `.fit(numpy_data)`.\n",
      "  warnings.warn('This ImageDataGenerator specifies '\n"
     ]
    }
   ],
   "source": [
    "\n",
    "datagen = ImageDataGenerator(featurewise_center=True,featurewise_std_normalization=True,zca_whitening=True,width_shift_range=0.2, height_shift_range=0.1)\n",
    "\n",
    "\n",
    "augmented_data_X_part3 = []\n",
    "augmented_data_y_part3 = []\n",
    "\n",
    "num_augmented = 0\n",
    "batch_size = 128\n",
    "for X_batch, y_batch in datagen.flow(x_train_1, y_train_1, batch_size = batch_size, shuffle=False):\n",
    "    augmented_data_X_part3.append(X_batch)\n",
    "    augmented_data_y_part3.append(y_batch)\n",
    "    num_augmented += batch_size\n",
    "    if num_augmented == x_train_1.shape[0]:\n",
    "        break\n",
    "augmented_data_X_part3 = np.concatenate(augmented_data_X_part3)\n",
    "augmented_data_y_part3 = np.concatenate(augmented_data_y_part3)"
   ]
  },
  {
   "cell_type": "code",
   "execution_count": 33,
   "metadata": {
    "colab": {
     "base_uri": "https://localhost:8080/",
     "height": 593
    },
    "colab_type": "code",
    "id": "ncgcRCrXIbEB",
    "outputId": "bc2b5b13-153a-4395-b1dd-eb821b94770e"
   },
   "outputs": [
    {
     "data": {
      "image/png": "[encoded data removed]",
      "text/plain": [
       "<Figure size 720x720 with 8 Axes>"
      ]
     },
     "metadata": {
      "tags": []
     },
     "output_type": "display_data"
    }
   ],
   "source": [
    "#LEt us see how the sample looks like\n",
    "\n",
    "# reshape to be [samples][channels][width][height]\n",
    "augmented_data_X_part3 = augmented_data_X_part3.reshape(augmented_data_X_part3.shape[0], 1, 28, 28).astype( 'float32' )\n",
    "\n",
    "# normalize inputs from 0-255 to 0-1\n",
    "augmented_data_X_part3  = augmented_data_X_part3 / 255\n",
    "\n",
    "#Let us see how couple of images look in the augmented data set\n",
    "fig, ax = plt.subplots(nrows=4, ncols=2,figsize=(10,10))\n",
    "for i in range(0,8):\n",
    "  plt.subplot(4,2,i+1)\n",
    "  plt.imshow(augmented_data_X_part3[i].reshape(28, 28), cmap=plt.get_cmap( 'gray' ))\n"
   ]
  },
  {
   "cell_type": "code",
   "execution_count": 34,
   "metadata": {
    "colab": {
     "base_uri": "https://localhost:8080/",
     "height": 1714
    },
    "colab_type": "code",
    "id": "BHC2Z1P0JN1O",
    "outputId": "930436cc-bc5f-450f-d52c-f69f2ddcb28b"
   },
   "outputs": [
    {
     "name": "stdout",
     "output_type": "stream",
     "text": [
      "Train on 96000 samples, validate on 12000 samples\n",
      "Epoch 1/50\n",
      " - 7s - loss: 0.3576 - acc: 0.8696 - val_loss: 0.4203 - val_acc: 0.9166\n",
      "Epoch 2/50\n",
      " - 6s - loss: 0.2903 - acc: 0.8905 - val_loss: 0.4140 - val_acc: 0.9176\n",
      "Epoch 3/50\n",
      " - 6s - loss: 0.2776 - acc: 0.8952 - val_loss: 0.4157 - val_acc: 0.9168\n",
      "Epoch 4/50\n",
      " - 6s - loss: 0.2641 - acc: 0.8995 - val_loss: 0.4178 - val_acc: 0.9203\n",
      "Epoch 5/50\n",
      " - 6s - loss: 0.2552 - acc: 0.9031 - val_loss: 0.4373 - val_acc: 0.9161\n",
      "Epoch 6/50\n",
      " - 6s - loss: 0.2498 - acc: 0.9046 - val_loss: 0.3854 - val_acc: 0.9154\n",
      "Epoch 7/50\n",
      " - 6s - loss: 0.2401 - acc: 0.9082 - val_loss: 0.4080 - val_acc: 0.9192\n",
      "Epoch 8/50\n",
      " - 6s - loss: 0.2416 - acc: 0.9084 - val_loss: 0.3945 - val_acc: 0.9213\n",
      "Epoch 9/50\n",
      " - 6s - loss: 0.2398 - acc: 0.9088 - val_loss: 0.4243 - val_acc: 0.9163\n",
      "Epoch 10/50\n",
      " - 6s - loss: 0.2331 - acc: 0.9128 - val_loss: 0.4158 - val_acc: 0.9184\n",
      "Epoch 11/50\n",
      " - 6s - loss: 0.2333 - acc: 0.9116 - val_loss: 0.3994 - val_acc: 0.9186\n",
      "Epoch 12/50\n",
      " - 6s - loss: 0.2268 - acc: 0.9139 - val_loss: 0.4039 - val_acc: 0.9215\n",
      "Epoch 13/50\n",
      " - 6s - loss: 0.2206 - acc: 0.9163 - val_loss: 0.4009 - val_acc: 0.9205\n",
      "Epoch 14/50\n",
      " - 6s - loss: 0.2211 - acc: 0.9163 - val_loss: 0.4236 - val_acc: 0.9161\n",
      "Epoch 15/50\n",
      " - 6s - loss: 0.2236 - acc: 0.9151 - val_loss: 0.4166 - val_acc: 0.9203\n",
      "Epoch 16/50\n",
      " - 6s - loss: 0.2195 - acc: 0.9159 - val_loss: 0.4190 - val_acc: 0.9188\n",
      "Epoch 17/50\n",
      " - 6s - loss: 0.2173 - acc: 0.9180 - val_loss: 0.4185 - val_acc: 0.9183\n",
      "Epoch 18/50\n",
      " - 6s - loss: 0.2154 - acc: 0.9178 - val_loss: 0.4163 - val_acc: 0.9188\n",
      "Epoch 19/50\n",
      " - 6s - loss: 0.2111 - acc: 0.9196 - val_loss: 0.4108 - val_acc: 0.9217\n",
      "Epoch 20/50\n",
      " - 6s - loss: 0.2096 - acc: 0.9205 - val_loss: 0.4160 - val_acc: 0.9202\n",
      "Epoch 21/50\n",
      " - 6s - loss: 0.2081 - acc: 0.9217 - val_loss: 0.3978 - val_acc: 0.9192\n",
      "Epoch 22/50\n",
      " - 6s - loss: 0.2041 - acc: 0.9219 - val_loss: 0.4305 - val_acc: 0.9177\n",
      "Epoch 23/50\n",
      " - 6s - loss: 0.2066 - acc: 0.9215 - val_loss: 0.4129 - val_acc: 0.9185\n",
      "Epoch 24/50\n",
      " - 6s - loss: 0.2047 - acc: 0.9218 - val_loss: 0.3987 - val_acc: 0.9178\n",
      "Epoch 25/50\n",
      " - 6s - loss: 0.2018 - acc: 0.9239 - val_loss: 0.4159 - val_acc: 0.9175\n",
      "Epoch 26/50\n",
      " - 6s - loss: 0.2027 - acc: 0.9231 - val_loss: 0.4314 - val_acc: 0.9204\n",
      "Epoch 27/50\n",
      " - 6s - loss: 0.1987 - acc: 0.9241 - val_loss: 0.4043 - val_acc: 0.9203\n",
      "Epoch 28/50\n",
      " - 6s - loss: 0.1991 - acc: 0.9240 - val_loss: 0.4188 - val_acc: 0.9193\n",
      "Epoch 29/50\n",
      " - 6s - loss: 0.1962 - acc: 0.9264 - val_loss: 0.4040 - val_acc: 0.9188\n",
      "Epoch 30/50\n",
      " - 6s - loss: 0.1966 - acc: 0.9243 - val_loss: 0.4228 - val_acc: 0.9198\n",
      "Epoch 31/50\n",
      " - 6s - loss: 0.1931 - acc: 0.9264 - val_loss: 0.4159 - val_acc: 0.9169\n",
      "Epoch 32/50\n",
      " - 6s - loss: 0.1975 - acc: 0.9244 - val_loss: 0.4002 - val_acc: 0.9170\n",
      "Epoch 33/50\n",
      " - 6s - loss: 0.1957 - acc: 0.9253 - val_loss: 0.4183 - val_acc: 0.9206\n",
      "Epoch 34/50\n",
      " - 6s - loss: 0.1910 - acc: 0.9272 - val_loss: 0.4012 - val_acc: 0.9190\n",
      "Epoch 35/50\n",
      " - 6s - loss: 0.1890 - acc: 0.9282 - val_loss: 0.4124 - val_acc: 0.9202\n",
      "Epoch 36/50\n",
      " - 6s - loss: 0.1904 - acc: 0.9276 - val_loss: 0.4140 - val_acc: 0.9178\n",
      "Epoch 37/50\n",
      " - 6s - loss: 0.1882 - acc: 0.9288 - val_loss: 0.4138 - val_acc: 0.9175\n",
      "Epoch 38/50\n",
      " - 6s - loss: 0.1896 - acc: 0.9276 - val_loss: 0.4010 - val_acc: 0.9197\n",
      "Epoch 39/50\n",
      " - 6s - loss: 0.1893 - acc: 0.9285 - val_loss: 0.3992 - val_acc: 0.9193\n",
      "Epoch 40/50\n",
      " - 6s - loss: 0.1829 - acc: 0.9303 - val_loss: 0.4126 - val_acc: 0.9212\n",
      "Epoch 41/50\n",
      " - 6s - loss: 0.1849 - acc: 0.9294 - val_loss: 0.4247 - val_acc: 0.9178\n",
      "Epoch 42/50\n",
      " - 6s - loss: 0.1844 - acc: 0.9302 - val_loss: 0.4227 - val_acc: 0.9179\n",
      "Epoch 43/50\n",
      " - 6s - loss: 0.1824 - acc: 0.9310 - val_loss: 0.4285 - val_acc: 0.9213\n",
      "Epoch 44/50\n",
      " - 6s - loss: 0.1849 - acc: 0.9294 - val_loss: 0.4125 - val_acc: 0.9198\n",
      "Epoch 45/50\n",
      " - 6s - loss: 0.1826 - acc: 0.9308 - val_loss: 0.4098 - val_acc: 0.9181\n",
      "Epoch 46/50\n",
      " - 6s - loss: 0.1793 - acc: 0.9321 - val_loss: 0.4138 - val_acc: 0.9236\n",
      "Epoch 47/50\n",
      " - 6s - loss: 0.1809 - acc: 0.9310 - val_loss: 0.4068 - val_acc: 0.9153\n",
      "Epoch 48/50\n",
      " - 6s - loss: 0.1822 - acc: 0.9306 - val_loss: 0.4140 - val_acc: 0.9203\n",
      "Epoch 49/50\n",
      " - 6s - loss: 0.1757 - acc: 0.9336 - val_loss: 0.4287 - val_acc: 0.9185\n",
      "Epoch 50/50\n",
      " - 6s - loss: 0.1762 - acc: 0.9339 - val_loss: 0.4351 - val_acc: 0.9183\n"
     ]
    }
   ],
   "source": [
    "\n",
    "X_new_part3 = np.concatenate((x_train_1,augmented_data_X_part3))\n",
    "Y_new_part3 = np.concatenate((y_train_1,augmented_data_y_part3))\n",
    "\n",
    "history = model.fit(X_new_part3, Y_new_part3 , validation_data=(x_valid, y_valid), epochs=50, batch_size=400,verbose=2)\n"
   ]
  },
  {
   "cell_type": "code",
   "execution_count": 35,
   "metadata": {
    "colab": {
     "base_uri": "https://localhost:8080/",
     "height": 393
    },
    "colab_type": "code",
    "id": "GMwTqDXIJvbU",
    "outputId": "e9bcf6a0-32c0-400f-f816-18f190588b6c"
   },
   "outputs": [
    {
     "data": {
      "image/png": "[encoded data removed]",
      "text/plain": [
       "<Figure size 576x396 with 1 Axes>"
      ]
     },
     "metadata": {
      "tags": []
     },
     "output_type": "display_data"
    },
    {
     "name": "stdout",
     "output_type": "stream",
     "text": [
      "Optimum epoch:=  5\n"
     ]
    }
   ],
   "source": [
    "# Lets plot the graph of Training loss vs Validation Loss\n",
    "import matplotlib.pyplot as plt\n",
    "\n",
    "loss = history.history['loss']\n",
    "val_loss = history.history['val_loss']\n",
    "\n",
    "epochs = range(1, len(loss) + 1)\n",
    "\n",
    "plt.plot(epochs, loss, 'bo', label='Training loss')\n",
    "plt.plot(epochs, val_loss, 'b', label='Validation loss')\n",
    "plt.title('Training and validation loss')\n",
    "plt.xlabel('Epochs')\n",
    "plt.ylabel('Loss')\n",
    "plt.legend()\n",
    "\n",
    "plt.show() \n",
    "\n",
    "epoch_optimum= np.argmin(val_loss) \n",
    "\n",
    "print(\"Optimum epoch:= \", epoch_optimum)"
   ]
  },
  {
   "cell_type": "code",
   "execution_count": 36,
   "metadata": {
    "colab": {
     "base_uri": "https://localhost:8080/",
     "height": 202
    },
    "colab_type": "code",
    "id": "J1xgYG-RJ0U7",
    "outputId": "0134b17c-abbb-4f45-91f0-77bfc7a7af6d"
   },
   "outputs": [
    {
     "name": "stdout",
     "output_type": "stream",
     "text": [
      "Epoch 1/5\n",
      "96000/96000 [==============================] - 7s 68us/step - loss: 0.1732 - acc: 0.9336\n",
      "Epoch 2/5\n",
      "96000/96000 [==============================] - 6s 67us/step - loss: 0.1772 - acc: 0.9331\n",
      "Epoch 3/5\n",
      "96000/96000 [==============================] - 6s 67us/step - loss: 0.1747 - acc: 0.9327\n",
      "Epoch 4/5\n",
      "96000/96000 [==============================] - 6s 67us/step - loss: 0.1767 - acc: 0.9327\n",
      "Epoch 5/5\n",
      "96000/96000 [==============================] - 6s 67us/step - loss: 0.1745 - acc: 0.9324\n",
      "CNN Error: 8.53%\n"
     ]
    }
   ],
   "source": [
    "#We got to know that the validation loss is minimum at epoch=5, lets fit a new model and evaluate\n",
    "model.fit(X_new_part3, Y_new_part3, epochs= epoch_optimum, batch_size=400)\n",
    "\n",
    "# Final evaluation of the model\n",
    "scores_part3 = model.evaluate(x_test, y_test, verbose=0)\n",
    "print(\"CNN Error: %.2f%%\" % (100-scores_part3[1]*100))"
   ]
  },
  {
   "cell_type": "code",
   "execution_count": 37,
   "metadata": {
    "colab": {
     "base_uri": "https://localhost:8080/",
     "height": 34
    },
    "colab_type": "code",
    "id": "R8oKURERJ58U",
    "outputId": "23732782-7a97-4e3c-d02f-7a1d0fcaeb6b"
   },
   "outputs": [
    {
     "name": "stdout",
     "output_type": "stream",
     "text": [
      "Drive already mounted at /content/drive/; to attempt to forcibly remount, call drive.mount(\"/content/drive/\", force_remount=True).\n"
     ]
    }
   ],
   "source": [
    "\n",
    "# mount your Drive\n",
    "import keras\n",
    "from google.colab import drive, files\n",
    "\n",
    "drive.mount('/content/drive/')\n",
    "\n",
    "\n",
    "\n",
    "filepath=\"/content/drive/My Drive/datasets_3/myweights-improvement-{epoch:02d}-{loss:.4f}.hdf5\"\n",
    "\n",
    "checkpoint_3 = keras.callbacks.ModelCheckpoint(filepath, monitor='loss', verbose=1, save_best_only=True,mode='min')\n",
    "\n",
    "\n",
    "\n",
    "callbacks_list = [checkpoint_3]"
   ]
  },
  {
   "cell_type": "markdown",
   "metadata": {
    "colab_type": "text",
    "id": "7n6L0BqrLCWy"
   },
   "source": [
    "# **4. Standardisation + ZCA Whitening + Random Shifts + Random Rotation**"
   ]
  },
  {
   "cell_type": "code",
   "execution_count": 38,
   "metadata": {
    "colab": {
     "base_uri": "https://localhost:8080/",
     "height": 138
    },
    "colab_type": "code",
    "id": "uSIffWpzLNHg",
    "outputId": "8e54985d-bb41-4573-eb83-e650ade95c9a"
   },
   "outputs": [
    {
     "name": "stderr",
     "output_type": "stream",
     "text": [
      "/usr/local/lib/python3.6/dist-packages/keras_preprocessing/image/image_data_generator.py:339: UserWarning: This ImageDataGenerator specifies `zca_whitening` which overrides setting of`featurewise_std_normalization`.\n",
      "  warnings.warn('This ImageDataGenerator specifies '\n",
      "/usr/local/lib/python3.6/dist-packages/keras_preprocessing/image/image_data_generator.py:699: UserWarning: This ImageDataGenerator specifies `featurewise_center`, but it hasn't been fit on any training data. Fit it first by calling `.fit(numpy_data)`.\n",
      "  warnings.warn('This ImageDataGenerator specifies '\n",
      "/usr/local/lib/python3.6/dist-packages/keras_preprocessing/image/image_data_generator.py:718: UserWarning: This ImageDataGenerator specifies `zca_whitening`, but it hasn't been fit on any training data. Fit it first by calling `.fit(numpy_data)`.\n",
      "  warnings.warn('This ImageDataGenerator specifies '\n"
     ]
    }
   ],
   "source": [
    "\n",
    "datagen = ImageDataGenerator(featurewise_center=True,featurewise_std_normalization=True,zca_whitening=True,width_shift_range=0.1, height_shift_range=0.1, rotation_range=20)\n",
    "\n",
    "\n",
    "augmented_data_X_part4 = []\n",
    "augmented_data_y_part4 = []\n",
    "\n",
    "num_augmented = 0\n",
    "batch_size = 128\n",
    "for X_batch, y_batch in datagen.flow(x_train_1, y_train_1, batch_size = batch_size, shuffle=False):\n",
    "    augmented_data_X_part4.append(X_batch)\n",
    "    augmented_data_y_part4.append(y_batch)\n",
    "    num_augmented += batch_size\n",
    "    if num_augmented == x_train_1.shape[0]:\n",
    "        break\n",
    "augmented_data_X_part4 = np.concatenate(augmented_data_X_part4)\n",
    "augmented_data_y_part4 = np.concatenate(augmented_data_y_part4)"
   ]
  },
  {
   "cell_type": "code",
   "execution_count": 39,
   "metadata": {
    "colab": {
     "base_uri": "https://localhost:8080/",
     "height": 593
    },
    "colab_type": "code",
    "id": "vY3klySELaVl",
    "outputId": "632c3af6-8f67-44d8-91f0-bc9cbe7192f2"
   },
   "outputs": [
    {
     "data": {
      "image/png": "[encoded data removed]",
      "text/plain": [
       "<Figure size 720x720 with 8 Axes>"
      ]
     },
     "metadata": {
      "tags": []
     },
     "output_type": "display_data"
    }
   ],
   "source": [
    "#LEt us see how the sample looks like\n",
    "\n",
    "# reshape to be [samples][channels][width][height]\n",
    "augmented_data_X_part4 = augmented_data_X_part4.reshape(augmented_data_X_part4.shape[0], 1, 28, 28).astype( 'float32' )\n",
    "\n",
    "# normalize inputs from 0-255 to 0-1\n",
    "augmented_data_X_part4  = augmented_data_X_part4 / 255\n",
    "\n",
    "#Let us see how couple of images look in the augmented data set\n",
    "fig, ax = plt.subplots(nrows=4, ncols=2,figsize=(10,10))\n",
    "for i in range(0,8):\n",
    "  plt.subplot(4,2,i+1)\n",
    "  plt.imshow(augmented_data_X_part4[i].reshape(28, 28), cmap=plt.get_cmap( 'gray' ))\n"
   ]
  },
  {
   "cell_type": "code",
   "execution_count": 40,
   "metadata": {
    "colab": {
     "base_uri": "https://localhost:8080/",
     "height": 1714
    },
    "colab_type": "code",
    "id": "wH6E2jYELwaA",
    "outputId": "f5e8757a-6b26-4918-fdbb-1d578c224f7a"
   },
   "outputs": [
    {
     "name": "stdout",
     "output_type": "stream",
     "text": [
      "Train on 96000 samples, validate on 12000 samples\n",
      "Epoch 1/50\n",
      " - 7s - loss: 0.2596 - acc: 0.9031 - val_loss: 0.4271 - val_acc: 0.9199\n",
      "Epoch 2/50\n",
      " - 6s - loss: 0.2414 - acc: 0.9088 - val_loss: 0.3998 - val_acc: 0.9218\n",
      "Epoch 3/50\n",
      " - 6s - loss: 0.2341 - acc: 0.9109 - val_loss: 0.4090 - val_acc: 0.9175\n",
      "Epoch 4/50\n",
      " - 6s - loss: 0.2228 - acc: 0.9153 - val_loss: 0.4097 - val_acc: 0.9204\n",
      "Epoch 5/50\n",
      " - 6s - loss: 0.2213 - acc: 0.9162 - val_loss: 0.4250 - val_acc: 0.9208\n",
      "Epoch 6/50\n",
      " - 6s - loss: 0.2197 - acc: 0.9169 - val_loss: 0.4228 - val_acc: 0.9188\n",
      "Epoch 7/50\n",
      " - 6s - loss: 0.2143 - acc: 0.9187 - val_loss: 0.4120 - val_acc: 0.9231\n",
      "Epoch 8/50\n",
      " - 6s - loss: 0.2103 - acc: 0.9196 - val_loss: 0.4341 - val_acc: 0.9190\n",
      "Epoch 9/50\n",
      " - 6s - loss: 0.2118 - acc: 0.9204 - val_loss: 0.4202 - val_acc: 0.9215\n",
      "Epoch 10/50\n",
      " - 6s - loss: 0.2077 - acc: 0.9211 - val_loss: 0.4198 - val_acc: 0.9197\n",
      "Epoch 11/50\n",
      " - 6s - loss: 0.2039 - acc: 0.9211 - val_loss: 0.4177 - val_acc: 0.9194\n",
      "Epoch 12/50\n",
      " - 6s - loss: 0.2056 - acc: 0.9221 - val_loss: 0.4087 - val_acc: 0.9203\n",
      "Epoch 13/50\n",
      " - 6s - loss: 0.2006 - acc: 0.9236 - val_loss: 0.4241 - val_acc: 0.9179\n",
      "Epoch 14/50\n",
      " - 6s - loss: 0.1987 - acc: 0.9243 - val_loss: 0.4143 - val_acc: 0.9208\n",
      "Epoch 15/50\n",
      " - 6s - loss: 0.1987 - acc: 0.9239 - val_loss: 0.4367 - val_acc: 0.9153\n",
      "Epoch 16/50\n",
      " - 6s - loss: 0.1941 - acc: 0.9262 - val_loss: 0.4337 - val_acc: 0.9209\n",
      "Epoch 17/50\n",
      " - 6s - loss: 0.1941 - acc: 0.9263 - val_loss: 0.4186 - val_acc: 0.9201\n",
      "Epoch 18/50\n",
      " - 6s - loss: 0.1918 - acc: 0.9275 - val_loss: 0.4118 - val_acc: 0.9217\n",
      "Epoch 19/50\n",
      " - 6s - loss: 0.1892 - acc: 0.9284 - val_loss: 0.4277 - val_acc: 0.9219\n",
      "Epoch 20/50\n",
      " - 6s - loss: 0.1924 - acc: 0.9263 - val_loss: 0.4066 - val_acc: 0.9193\n",
      "Epoch 21/50\n",
      " - 6s - loss: 0.1892 - acc: 0.9278 - val_loss: 0.4292 - val_acc: 0.9153\n",
      "Epoch 22/50\n",
      " - 6s - loss: 0.1874 - acc: 0.9279 - val_loss: 0.4370 - val_acc: 0.9194\n",
      "Epoch 23/50\n",
      " - 6s - loss: 0.1896 - acc: 0.9282 - val_loss: 0.4003 - val_acc: 0.9212\n",
      "Epoch 24/50\n",
      " - 6s - loss: 0.1828 - acc: 0.9300 - val_loss: 0.4282 - val_acc: 0.9202\n",
      "Epoch 25/50\n",
      " - 6s - loss: 0.1865 - acc: 0.9306 - val_loss: 0.4237 - val_acc: 0.9193\n",
      "Epoch 26/50\n",
      " - 6s - loss: 0.1875 - acc: 0.9286 - val_loss: 0.4185 - val_acc: 0.9176\n",
      "Epoch 27/50\n",
      " - 6s - loss: 0.1833 - acc: 0.9298 - val_loss: 0.4303 - val_acc: 0.9216\n",
      "Epoch 28/50\n",
      " - 6s - loss: 0.1782 - acc: 0.9319 - val_loss: 0.4229 - val_acc: 0.9211\n",
      "Epoch 29/50\n",
      " - 6s - loss: 0.1870 - acc: 0.9298 - val_loss: 0.4153 - val_acc: 0.9173\n",
      "Epoch 30/50\n",
      " - 6s - loss: 0.1826 - acc: 0.9311 - val_loss: 0.4400 - val_acc: 0.9193\n",
      "Epoch 31/50\n",
      " - 6s - loss: 0.1794 - acc: 0.9320 - val_loss: 0.4264 - val_acc: 0.9219\n",
      "Epoch 32/50\n",
      " - 6s - loss: 0.1786 - acc: 0.9310 - val_loss: 0.4350 - val_acc: 0.9199\n",
      "Epoch 33/50\n",
      " - 6s - loss: 0.1790 - acc: 0.9324 - val_loss: 0.4111 - val_acc: 0.9202\n",
      "Epoch 34/50\n",
      " - 6s - loss: 0.1728 - acc: 0.9336 - val_loss: 0.4386 - val_acc: 0.9187\n",
      "Epoch 35/50\n",
      " - 6s - loss: 0.1765 - acc: 0.9335 - val_loss: 0.4376 - val_acc: 0.9171\n",
      "Epoch 36/50\n",
      " - 6s - loss: 0.1738 - acc: 0.9334 - val_loss: 0.4261 - val_acc: 0.9194\n",
      "Epoch 37/50\n",
      " - 6s - loss: 0.1731 - acc: 0.9341 - val_loss: 0.4333 - val_acc: 0.9223\n",
      "Epoch 38/50\n",
      " - 6s - loss: 0.1732 - acc: 0.9342 - val_loss: 0.4364 - val_acc: 0.9199\n",
      "Epoch 39/50\n",
      " - 6s - loss: 0.1742 - acc: 0.9331 - val_loss: 0.4264 - val_acc: 0.9193\n",
      "Epoch 40/50\n",
      " - 6s - loss: 0.1714 - acc: 0.9355 - val_loss: 0.4336 - val_acc: 0.9202\n",
      "Epoch 41/50\n",
      " - 6s - loss: 0.1701 - acc: 0.9355 - val_loss: 0.4409 - val_acc: 0.9203\n",
      "Epoch 42/50\n",
      " - 6s - loss: 0.1711 - acc: 0.9352 - val_loss: 0.4209 - val_acc: 0.9202\n",
      "Epoch 43/50\n",
      " - 6s - loss: 0.1689 - acc: 0.9354 - val_loss: 0.4297 - val_acc: 0.9214\n",
      "Epoch 44/50\n",
      " - 6s - loss: 0.1663 - acc: 0.9373 - val_loss: 0.4354 - val_acc: 0.9212\n",
      "Epoch 45/50\n",
      " - 6s - loss: 0.1674 - acc: 0.9358 - val_loss: 0.4362 - val_acc: 0.9182\n",
      "Epoch 46/50\n",
      " - 6s - loss: 0.1648 - acc: 0.9367 - val_loss: 0.4377 - val_acc: 0.9190\n",
      "Epoch 47/50\n",
      " - 6s - loss: 0.1658 - acc: 0.9365 - val_loss: 0.4026 - val_acc: 0.9219\n",
      "Epoch 48/50\n",
      " - 6s - loss: 0.1656 - acc: 0.9371 - val_loss: 0.4340 - val_acc: 0.9219\n",
      "Epoch 49/50\n",
      " - 6s - loss: 0.1647 - acc: 0.9374 - val_loss: 0.4202 - val_acc: 0.9206\n",
      "Epoch 50/50\n",
      " - 6s - loss: 0.1618 - acc: 0.9380 - val_loss: 0.4288 - val_acc: 0.9186\n"
     ]
    }
   ],
   "source": [
    "\n",
    "X_new_part4 = np.concatenate((x_train_1,augmented_data_X_part4))\n",
    "Y_new_part4 = np.concatenate((y_train_1,augmented_data_y_part4))\n",
    "\n",
    "history = model.fit(X_new_part4, Y_new_part4 , validation_data=(x_valid, y_valid), epochs=50, batch_size=400,verbose=2)"
   ]
  },
  {
   "cell_type": "code",
   "execution_count": 41,
   "metadata": {
    "colab": {
     "base_uri": "https://localhost:8080/",
     "height": 393
    },
    "colab_type": "code",
    "id": "Kmn6oM8HL8Ho",
    "outputId": "e0e86ab5-091c-452f-e64b-eaa2cd5c4e2a"
   },
   "outputs": [
    {
     "data": {
      "image/png": "[encoded data removed]",
      "text/plain": [
       "<Figure size 576x396 with 1 Axes>"
      ]
     },
     "metadata": {
      "tags": []
     },
     "output_type": "display_data"
    },
    {
     "name": "stdout",
     "output_type": "stream",
     "text": [
      "Optimum epoch:=  1\n"
     ]
    }
   ],
   "source": [
    "# Lets plot the graph of Training loss vs Validation Loss\n",
    "import matplotlib.pyplot as plt\n",
    "\n",
    "loss = history.history['loss']\n",
    "val_loss = history.history['val_loss']\n",
    "\n",
    "epochs = range(1, len(loss) + 1)\n",
    "\n",
    "plt.plot(epochs, loss, 'bo', label='Training loss')\n",
    "plt.plot(epochs, val_loss, 'b', label='Validation loss')\n",
    "plt.title('Training and validation loss')\n",
    "plt.xlabel('Epochs')\n",
    "plt.ylabel('Loss')\n",
    "plt.legend()\n",
    "\n",
    "plt.show() \n",
    "\n",
    "epoch_optimum= np.argmin(val_loss) \n",
    "\n",
    "print(\"Optimum epoch:= \", epoch_optimum)"
   ]
  },
  {
   "cell_type": "code",
   "execution_count": 42,
   "metadata": {
    "colab": {
     "base_uri": "https://localhost:8080/",
     "height": 67
    },
    "colab_type": "code",
    "id": "obnKvR4xL-X0",
    "outputId": "8359a211-c75d-4b21-a87e-69249a4a6a48"
   },
   "outputs": [
    {
     "name": "stdout",
     "output_type": "stream",
     "text": [
      "Epoch 1/1\n",
      "96000/96000 [==============================] - 7s 69us/step - loss: 0.1630 - acc: 0.9377\n",
      "CNN Error: 8.75%\n"
     ]
    }
   ],
   "source": [
    "#We got to know that the validation loss is minimum at epoch=5, lets fit a new model and evaluate\n",
    "model.fit(X_new_part4, Y_new_part4, epochs=epoch_optimum, batch_size=400)\n",
    "\n",
    "# Final evaluation of the model\n",
    "scores_part4 = model.evaluate(x_test, y_test, verbose=0)\n",
    "print(\"CNN Error: %.2f%%\" % (100-scores_part4[1]*100))"
   ]
  },
  {
   "cell_type": "code",
   "execution_count": 43,
   "metadata": {
    "colab": {
     "base_uri": "https://localhost:8080/",
     "height": 34
    },
    "colab_type": "code",
    "id": "VtybEcblMKNa",
    "outputId": "5d47be79-f926-44ca-8f9f-635133949be6"
   },
   "outputs": [
    {
     "name": "stdout",
     "output_type": "stream",
     "text": [
      "Drive already mounted at /content/drive/; to attempt to forcibly remount, call drive.mount(\"/content/drive/\", force_remount=True).\n"
     ]
    }
   ],
   "source": [
    "\n",
    "# mount your Drive\n",
    "import keras\n",
    "from google.colab import drive, files\n",
    "\n",
    "drive.mount('/content/drive/')\n",
    "\n",
    "\n",
    "\n",
    "filepath=\"/content/drive/My Drive/datasets_4/myweights-improvement-{epoch:02d}-{loss:.4f}.hdf5\"\n",
    "\n",
    "checkpoint_4 = keras.callbacks.ModelCheckpoint(filepath, monitor='loss', verbose=1, save_best_only=True,mode='min')\n",
    "\n",
    "\n",
    "\n",
    "callbacks_list = [checkpoint_4]"
   ]
  },
  {
   "cell_type": "markdown",
   "metadata": {
    "colab_type": "text",
    "id": "sWzNQ9ZbW5d3"
   },
   "source": [
    "# **Error Table**"
   ]
  },
  {
   "cell_type": "code",
   "execution_count": 51,
   "metadata": {
    "colab": {
     "base_uri": "https://localhost:8080/",
     "height": 195
    },
    "colab_type": "code",
    "id": "NbzkFL_PW7T5",
    "outputId": "88a5ec87-2408-450e-ee52-c9ad8da94f99"
   },
   "outputs": [
    {
     "data": {
      "text/html": [
       "<div>\n",
       "<style scoped>\n",
       "    .dataframe tbody tr th:only-of-type {\n",
       "        vertical-align: middle;\n",
       "    }\n",
       "\n",
       "    .dataframe tbody tr th {\n",
       "        vertical-align: top;\n",
       "    }\n",
       "\n",
       "    .dataframe thead th {\n",
       "        text-align: right;\n",
       "    }\n",
       "</style>\n",
       "<table border=\"1\" class=\"dataframe\">\n",
       "  <thead>\n",
       "    <tr style=\"text-align: right;\">\n",
       "      <th></th>\n",
       "      <th>test set error</th>\n",
       "    </tr>\n",
       "  </thead>\n",
       "  <tbody>\n",
       "    <tr>\n",
       "      <th>normal CNN</th>\n",
       "      <td>8.07</td>\n",
       "    </tr>\n",
       "    <tr>\n",
       "      <th>CNN+Standardisation</th>\n",
       "      <td>8.43</td>\n",
       "    </tr>\n",
       "    <tr>\n",
       "      <th>CNN+Random Rotation + Standardisation</th>\n",
       "      <td>8.52</td>\n",
       "    </tr>\n",
       "    <tr>\n",
       "      <th>CNN + ZCA whitening + Standardisation + Random Shifts</th>\n",
       "      <td>8.53</td>\n",
       "    </tr>\n",
       "    <tr>\n",
       "      <th>CNN + ZCA whitening + Standardisation + Random Shifts + Rotation</th>\n",
       "      <td>8.75</td>\n",
       "    </tr>\n",
       "  </tbody>\n",
       "</table>\n",
       "</div>"
      ],
      "text/plain": [
       "                                                    test set error\n",
       "normal CNN                                                    8.07\n",
       "CNN+Standardisation                                           8.43\n",
       "CNN+Random Rotation + Standardisation                         8.52\n",
       "CNN + ZCA whitening + Standardisation + Random ...            8.53\n",
       "CNN + ZCA whitening + Standardisation + Random ...            8.75"
      ]
     },
     "execution_count": 51,
     "metadata": {
      "tags": []
     },
     "output_type": "execute_result"
    }
   ],
   "source": [
    "import pandas as pd\n",
    "model = ['normal CNN' , 'CNN+Standardisation' , 'CNN+Random Rotation + Standardisation' , 'CNN + ZCA whitening + Standardisation + Random Shifts','CNN + ZCA whitening + Standardisation + Random Shifts + Rotation']\n",
    "col = ['test set error']\n",
    "values = [100-scores[1]*100,100-scores_2[1]*100,100-scores_part2[1]*100,100-scores_part3[1]*100,100-scores_part4[1]*100]\n",
    "pd.DataFrame(index=model, data = values, columns= col)"
   ]
  },
  {
   "cell_type": "markdown",
   "metadata": {
    "colab_type": "text",
    "id": "0XXZSiQnYsOG"
   },
   "source": [
    "**We see that the test error is the minimum for the normal CNN, usually the Data Augmentation is done to prevent overfitting. In this case since the image size is small or maybe it is not clear, the model is not able to perform any better than the model using the non augmented data. But on the large data set, we are sure that the model will perform better than the one with no augmentation**"
   ]
  },
  {
   "cell_type": "markdown",
   "metadata": {
    "colab_type": "text",
    "id": "HAs10c3yZLcj"
   },
   "source": [
    "**Thank you for the read :)**"
   ]
  }
 ],
 "metadata": {
  "accelerator": "GPU",
  "colab": {
   "collapsed_sections": [],
   "name": "OYO3.ipynb",
   "provenance": [],
   "version": "0.3.2"
  },
  "kernelspec": {
   "display_name": "Python 3",
   "language": "python",
   "name": "python3"
  },
  "language_info": {
   "codemirror_mode": {
    "name": "ipython",
    "version": 3
   },
   "file_extension": ".py",
   "mimetype": "text/x-python",
   "name": "python",
   "nbconvert_exporter": "python",
   "pygments_lexer": "ipython3",
   "version": "3.6.5"
  }
 },
 "nbformat": 4,
 "nbformat_minor": 1
}
